{
 "cells": [
  {
   "cell_type": "code",
   "execution_count": 1,
   "metadata": {},
   "outputs": [],
   "source": [
    "import numpy as np\n",
    "import matplotlib.pyplot as plt\n",
    "from sklearn.metrics import accuracy_score\n",
    "import time"
   ]
  },
  {
   "cell_type": "code",
   "execution_count": 2,
   "metadata": {},
   "outputs": [],
   "source": [
    "import idx2numpy\n",
    "#file = 'MNIST inputs/train-images.idx3-ubyte'\n",
    "#X = idx2numpy.convert_from_file(file)\n",
    "\n",
    "file = 'MNIST inputs/t10k-images.idx3-ubyte'\n",
    "Xtest = idx2numpy.convert_from_file(file)\n",
    "Xtest = Xtest.reshape((10000, 784))\n",
    "np.savez_compressed('Xtest', arr = Xtest)"
   ]
  },
  {
   "cell_type": "code",
   "execution_count": 3,
   "metadata": {},
   "outputs": [
    {
     "data": {
      "text/plain": [
       "(600000, 784)"
      ]
     },
     "execution_count": 3,
     "metadata": {},
     "output_type": "execute_result"
    }
   ],
   "source": [
    "X = np.load('newX.npz')\n",
    "X = X['arr']\n",
    "X = X.reshape((600000, 784))\n",
    "X.shape"
   ]
  },
  {
   "cell_type": "code",
   "execution_count": 4,
   "metadata": {},
   "outputs": [
    {
     "data": {
      "text/plain": [
       "(10000, 784)"
      ]
     },
     "execution_count": 4,
     "metadata": {},
     "output_type": "execute_result"
    }
   ],
   "source": [
    "Xtest = np.load('Xtest.npz')\n",
    "Xtest = Xtest['arr']\n",
    "Xtest.shape"
   ]
  },
  {
   "cell_type": "code",
   "execution_count": 20,
   "metadata": {},
   "outputs": [],
   "source": [
    "# X = preprocessing.scale(X)\n",
    "X /= np.max(X)\n",
    "Xtest = Xtest.astype('float64')\n",
    "Xtest /= np.max(Xtest)"
   ]
  },
  {
   "cell_type": "code",
   "execution_count": 6,
   "metadata": {},
   "outputs": [],
   "source": [
    "# ctrl /\n",
    "# file = 'MNIST inputs/train-labels.idx1-ubyte'\n",
    "# y = idx2numpy.convert_from_file(file)\n",
    "# arr = y\n",
    "# for j in range(9):\n",
    "#     arr = np.concatenate((arr, y), axis=0)\n",
    "# np.save('newy.npy', arr)\n",
    "\n",
    "file = 'MNIST inputs/t10k-labels.idx1-ubyte'\n",
    "ytest_temp = idx2numpy.convert_from_file(file)"
   ]
  },
  {
   "cell_type": "code",
   "execution_count": 7,
   "metadata": {},
   "outputs": [],
   "source": [
    "newy = np.load('newy.npy')\n",
    "y = np.zeros((newy.shape[0], 10))\n",
    "for i in range(newy.shape[0]):\n",
    "    y[i,newy[i]] = 1\n",
    "del newy"
   ]
  },
  {
   "cell_type": "code",
   "execution_count": 8,
   "metadata": {},
   "outputs": [],
   "source": [
    "ytest = np.zeros((ytest_temp.shape[0], 10))\n",
    "for i in range(ytest_temp.shape[0]):\n",
    "    ytest[i,ytest_temp[i]] = 1\n",
    "del ytest_temp"
   ]
  },
  {
   "cell_type": "code",
   "execution_count": 9,
   "metadata": {},
   "outputs": [
    {
     "name": "stdout",
     "output_type": "stream",
     "text": [
      "[0. 0. 0. 0. 1. 0. 0. 0. 0. 0.]\n"
     ]
    },
    {
     "data": {
      "text/plain": [
       "<matplotlib.image.AxesImage at 0x18787861608>"
      ]
     },
     "execution_count": 9,
     "metadata": {},
     "output_type": "execute_result"
    },
    {
     "data": {
      "image/png": "[encoded data removed]",
      "text/plain": [
       "<Figure size 432x288 with 1 Axes>"
      ]
     },
     "metadata": {
      "needs_background": "light"
     },
     "output_type": "display_data"
    }
   ],
   "source": [
    "index = 422235\n",
    "print(y[index])\n",
    "plt.imshow(X[index].reshape(28,28), cmap=plt.cm.binary)"
   ]
  },
  {
   "cell_type": "code",
   "execution_count": 10,
   "metadata": {},
   "outputs": [
    {
     "name": "stdout",
     "output_type": "stream",
     "text": [
      "[0. 0. 0. 0. 0. 0. 0. 0. 0. 1.]\n"
     ]
    },
    {
     "data": {
      "text/plain": [
       "<matplotlib.image.AxesImage at 0x187879518c8>"
      ]
     },
     "execution_count": 10,
     "metadata": {},
     "output_type": "execute_result"
    },
    {
     "data": {
      "image/png": "[encoded data removed]",
      "text/plain": [
       "<Figure size 432x288 with 1 Axes>"
      ]
     },
     "metadata": {
      "needs_background": "light"
     },
     "output_type": "display_data"
    }
   ],
   "source": [
    "index = 1192\n",
    "print(ytest[index])\n",
    "plt.imshow(Xtest[index].reshape(28,28), cmap=plt.cm.binary)"
   ]
  },
  {
   "cell_type": "code",
   "execution_count": 11,
   "metadata": {},
   "outputs": [],
   "source": [
    "def sigmoid(z):\n",
    "    return 1/(1+np.exp(-z))\n",
    "def dsigmoid(z):\n",
    "    return sigmoid(z)*(1-sigmoid(z))"
   ]
  },
  {
   "cell_type": "code",
   "execution_count": 12,
   "metadata": {},
   "outputs": [],
   "source": [
    "def predict(T, X):\n",
    "    A1 = sigmoid(X@T[0] + T[1])\n",
    "    h = sigmoid(A1@T[2] + T[3])\n",
    "    return np.argmax(h, axis=1)"
   ]
  },
  {
   "cell_type": "code",
   "execution_count": 13,
   "metadata": {},
   "outputs": [],
   "source": [
    "# https://stats.stackexchange.com/questions/47590/what-are-good-initial-weights-in-a-neural-network\n",
    "def init_weights(nnSize): # 784 | 100 | 10\n",
    "#     W1 = (np.random.rand(nnSize[0],nnSize[1])*2-1)* 4*np.sqrt(6/(nnSize[0]+nnSize[1]))\n",
    "#     b1 = np.zeros((nnSize[1], 1))\n",
    "#     W2 = (np.random.rand(nnSize[1],nnSize[2])*2-1)* 4*np.sqrt(6/(nnSize[1]+nnSize[2]))\n",
    "#     b2 = np.zeros((nnSize[2], 1))\n",
    "    W1 = (np.random.randn(nnSize[0],nnSize[1])/np.sqrt(nnSize[0]))\n",
    "    b1 = np.random.randn(1, nnSize[1])\n",
    "    W2 = (np.random.randn(nnSize[1],nnSize[2])/np.sqrt(nnSize[1]))\n",
    "    b2 = np.random.randn(1, nnSize[2])\n",
    "    return [W1, b1, W2, b2]"
   ]
  },
  {
   "cell_type": "code",
   "execution_count": 14,
   "metadata": {},
   "outputs": [],
   "source": [
    "# https://medium.com/better-programming/how-to-build-2-layer-neural-network-from-scratch-in-python-4dd44a13ebba\n",
    "# https://github.com/mnielsen/neural-networks-and-deep-learning/blob/master/src/network2.py\n",
    "def cost_function(X, y, T, l): #W1 = T[0], b1 = T[1], W2 = T[2], b2 = T[3]\n",
    "    Z1 = X@T[0] + T[1]\n",
    "    A1 = sigmoid(Z1) # m by nnSize[1]\n",
    "    Z2 = A1@T[2] + T[3]\n",
    "    h = sigmoid(Z2) # h = A3\n",
    "    m = X.shape[0]\n",
    "    J = np.nan_to_num(np.sum(-y*np.log(h)-(1-y)*np.log(1-h))/m + (l/(2*m))*(np.sum(T[0]**2)+np.sum(T[2]**2)))\n",
    "    #note that biases are not yet regularized\n",
    "    \n",
    "    dJ = h - y # m by 10\n",
    "    dW2 = (A1.T@dJ + l*T[2])/m\n",
    "    db2 = np.sum(dJ, axis = 0, keepdims=True)/m\n",
    "    dZ1 = (dJ@T[2].T) * dsigmoid(Z1)\n",
    "    dW1 = (X.T@dZ1 + l*T[0])/m\n",
    "    db1 = np.sum(dZ1, axis = 0, keepdims=True)/m\n",
    "    return J, [dW1, db1, dW2, db2]"
   ]
  },
  {
   "cell_type": "code",
   "execution_count": 15,
   "metadata": {},
   "outputs": [],
   "source": [
    "def gradient_descent(T, dT, alpha):\n",
    "    T[0] -= alpha*dT[0]\n",
    "    T[1] -= alpha*dT[1]\n",
    "    T[2] -= alpha*dT[2]\n",
    "    T[3] -= alpha*dT[3]\n",
    "    return T"
   ]
  },
  {
   "cell_type": "code",
   "execution_count": 16,
   "metadata": {},
   "outputs": [],
   "source": [
    "def neural_network(X, y, Xcv, ycv):\n",
    "    nnSize = np.array([784, 120, 10])\n",
    "    T = init_weights(nnSize)\n",
    "    cost = []\n",
    "    test_acc = []\n",
    "    max_iter = 350\n",
    "    l = 0.3 #lambda\n",
    "    alpha = 0.6\n",
    "    for i in range(max_iter):\n",
    "        J, dT = cost_function(X, y, T, l)\n",
    "        T = gradient_descent(T, dT, alpha)\n",
    "        cost.append(J)\n",
    "        test_acc.append(accuracy_score(predict(T, Xcv), np.argmax(ycv, axis=1)))\n",
    "    return T, cost, test_acc"
   ]
  },
  {
   "cell_type": "code",
   "execution_count": 21,
   "metadata": {
    "scrolled": false
   },
   "outputs": [
    {
     "name": "stdout",
     "output_type": "stream",
     "text": [
      "31.035412073135376\n"
     ]
    }
   ],
   "source": [
    "time1 = time.time()\n",
    "t = np.array([0, 5000]) # Training set\n",
    "cv = np.array([5000, 6000])\n",
    "T, cost, test_acc = neural_network(X[t[0]:t[1],:], y[t[0]:t[1],:], X[cv[0]:cv[1],:], y[cv[0]:cv[1],:])\n",
    "time2 = time.time()\n",
    "print(time2-time1)"
   ]
  },
  {
   "cell_type": "code",
   "execution_count": 34,
   "metadata": {},
   "outputs": [],
   "source": [
    "def mini_batch_nn(X, y, Xtest, ytest, epoch_size):\n",
    "    nnSize = np.array([784, 128, 10])\n",
    "    T = init_weights(nnSize)\n",
    "    test_acc = []\n",
    "    max_iter = 25\n",
    "    l = 0.2 #lambda\n",
    "    alpha = 0.2\n",
    "    mini_size = 320\n",
    "    epoch = 9 # Times epoch_size is looped\n",
    "    for k in range(max_iter):\n",
    "        time1 = time.time()\n",
    "        for j in range(epoch):\n",
    "            epochX, epochy = X[j*epoch_size:(j+1)*epoch_size, :], y[j*epoch_size:(j+1)*epoch_size, :]\n",
    "            for i in range(int(np.floor(epoch_size/mini_size))):\n",
    "                miniX, miniy = epochX[i*mini_size:(i+1)*mini_size, :], epochy[i*mini_size:(i+1)*mini_size, :]\n",
    "                _, dT = cost_function(miniX, miniy, T, l)\n",
    "                T = gradient_descent(T, dT, alpha)\n",
    "            test_acc.append(accuracy_score(predict(T, Xtest), np.argmax(ytest, axis=1)))\n",
    "        print('Epoch '+str(k+1)+' took:'+ str(time.time() - time1))\n",
    "    return T, test_acc"
   ]
  },
  {
   "cell_type": "code",
   "execution_count": 35,
   "metadata": {},
   "outputs": [
    {
     "name": "stdout",
     "output_type": "stream",
     "text": [
      "Epoch 1 took:12.803280115127563\n",
      "Epoch 2 took:10.97316575050354\n",
      "Epoch 3 took:8.497886657714844\n",
      "Epoch 4 took:8.455047369003296\n",
      "Epoch 5 took:8.578078746795654\n",
      "Epoch 6 took:9.441549301147461\n",
      "Epoch 7 took:8.596299886703491\n",
      "Epoch 8 took:8.58521318435669\n",
      "Epoch 9 took:8.554050207138062\n",
      "Epoch 10 took:8.732998132705688\n",
      "Epoch 11 took:9.120701313018799\n",
      "Epoch 12 took:9.209630489349365\n",
      "Epoch 13 took:9.803444385528564\n",
      "Epoch 14 took:10.172994613647461\n",
      "Epoch 15 took:10.041605710983276\n",
      "Epoch 16 took:10.325854301452637\n",
      "Epoch 17 took:9.8726966381073\n",
      "Epoch 18 took:9.415427923202515\n",
      "Epoch 19 took:9.336990118026733\n",
      "Epoch 20 took:9.327220678329468\n",
      "Epoch 21 took:9.360558986663818\n",
      "Epoch 22 took:9.398691654205322\n",
      "Epoch 23 took:9.322837829589844\n",
      "Epoch 24 took:9.31898808479309\n",
      "Epoch 25 took:9.893951177597046\n"
     ]
    }
   ],
   "source": [
    "t = np.array([0, 540000])\n",
    "T, test_acc = mini_batch_nn(X[t[0]:t[1],:], y[t[0]:t[1],:], Xtest, ytest, 60000)\n",
    "time2 = time.time()"
   ]
  },
  {
   "cell_type": "code",
   "execution_count": 29,
   "metadata": {},
   "outputs": [
    {
     "data": {
      "text/plain": [
       "[<matplotlib.lines.Line2D at 0x18787b46688>]"
      ]
     },
     "execution_count": 29,
     "metadata": {},
     "output_type": "execute_result"
    },
    {
     "data": {
      "image/png": "[encoded data removed]",
      "text/plain": [
       "<Figure size 432x288 with 1 Axes>"
      ]
     },
     "metadata": {
      "needs_background": "light"
     },
     "output_type": "display_data"
    }
   ],
   "source": [
    "plt.plot(cost)"
   ]
  },
  {
   "cell_type": "code",
   "execution_count": 36,
   "metadata": {
    "scrolled": false
   },
   "outputs": [
    {
     "data": {
      "text/plain": [
       "[<matplotlib.lines.Line2D at 0x18787cb7e88>]"
      ]
     },
     "execution_count": 36,
     "metadata": {},
     "output_type": "execute_result"
    },
    {
     "data": {
      "image/png": "[encoded data removed]",
      "text/plain": [
       "<Figure size 432x288 with 1 Axes>"
      ]
     },
     "metadata": {
      "needs_background": "light"
     },
     "output_type": "display_data"
    }
   ],
   "source": [
    "plt.plot(test_acc)"
   ]
  },
  {
   "cell_type": "code",
   "execution_count": 37,
   "metadata": {},
   "outputs": [
    {
     "data": {
      "text/plain": [
       "0.9666"
      ]
     },
     "execution_count": 37,
     "metadata": {},
     "output_type": "execute_result"
    }
   ],
   "source": [
    "test_acc[-1]"
   ]
  },
  {
   "cell_type": "code",
   "execution_count": 38,
   "metadata": {},
   "outputs": [
    {
     "data": {
      "text/plain": [
       "0.9666"
      ]
     },
     "execution_count": 38,
     "metadata": {},
     "output_type": "execute_result"
    }
   ],
   "source": [
    "accuracy_score(predict(T, Xtest), np.argmax(ytest, axis=1))"
   ]
  },
  {
   "cell_type": "code",
   "execution_count": 26,
   "metadata": {},
   "outputs": [],
   "source": [
    "c = np.array([[1,2,3],[4,5,6],[7,8,9],[10,11,12]])\n",
    "d = 2*np.ones((1,3))"
   ]
  },
  {
   "cell_type": "code",
   "execution_count": null,
   "metadata": {},
   "outputs": [],
   "source": [
    "nnSize = np.array([784, 100, 10])\n",
    "T = init_weights(nnSize)\n",
    "# l = 0.1\n",
    "# alpha = 1\n",
    "# J, dT = cost_function(preprocessing.scale(X[0:600,:]), y[0:600,:], T, l)\n",
    "# T = gradient_descent(T, dT, alpha)"
   ]
  },
  {
   "cell_type": "code",
   "execution_count": null,
   "metadata": {},
   "outputs": [],
   "source": [
    "# Implementing CNN With Keras\n",
    "# According to https://www.sicara.ai/blog/2019-10-31-convolutional-layer-convolution-kernel, (Deeper >>> Wider)\n",
    "# 3x3 and 5x5 are common kernel sizes, and the first layer will usually have a larger kernel\n",
    "# Use batch normalization rather than dropout\n",
    "\n",
    "# input size is just input size\n",
    "# filter size is kernel size\n",
    "# stride is how far you go\n",
    "# padding = same | means padding will be even on both sides, one more on left if odd\n",
    "\n",
    "# Common practice to increase number of filters learned\n",
    "# Almost always use powers of 2 (¯\\_(ツ)_/¯)\n",
    "\n",
    "# Use categorialCrossEntropy https://keras.io/api/losses/probabilistic_losses/#categoricalcrossentropy-class\n"
   ]
  }
 ],
 "metadata": {
  "kernelspec": {
   "display_name": "Python 3",
   "language": "python",
   "name": "python3"
  },
  "language_info": {
   "codemirror_mode": {
    "name": "ipython",
    "version": 3
   },
   "file_extension": ".py",
   "mimetype": "text/x-python",
   "name": "python",
   "nbconvert_exporter": "python",
   "pygments_lexer": "ipython3",
   "version": "3.7.6"
  }
 },
 "nbformat": 4,
 "nbformat_minor": 4
}
