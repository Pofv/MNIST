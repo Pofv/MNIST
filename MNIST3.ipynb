{
 "cells": [
  {
   "cell_type": "code",
   "execution_count": 1,
   "metadata": {},
   "outputs": [],
   "source": [
    "import numpy as np\n",
    "import matplotlib.pyplot as plt\n",
    "from sklearn.metrics import accuracy_score\n",
    "import time\n",
    "np.random.seed(1)"
   ]
  },
  {
   "cell_type": "code",
   "execution_count": 2,
   "metadata": {},
   "outputs": [],
   "source": [
    "import idx2numpy\n",
    "file = 'MNIST inputs/t10k-labels.idx1-ubyte'\n",
    "ytest_temp = idx2numpy.convert_from_file(file)"
   ]
  },
  {
   "cell_type": "code",
   "execution_count": 3,
   "metadata": {},
   "outputs": [
    {
     "data": {
      "text/plain": [
       "(600000, 28, 28, 1)"
      ]
     },
     "execution_count": 3,
     "metadata": {},
     "output_type": "execute_result"
    }
   ],
   "source": [
    "X = np.load('newX.npz')\n",
    "X = X['arr']\n",
    "X = X.reshape((600000, 28, 28, 1))\n",
    "X.shape"
   ]
  },
  {
   "cell_type": "code",
   "execution_count": 4,
   "metadata": {},
   "outputs": [],
   "source": [
    "X /= np.max(X)"
   ]
  },
  {
   "cell_type": "code",
   "execution_count": 5,
   "metadata": {},
   "outputs": [
    {
     "data": {
      "text/plain": [
       "(10000, 28, 28, 1)"
      ]
     },
     "execution_count": 5,
     "metadata": {},
     "output_type": "execute_result"
    }
   ],
   "source": [
    "Xtest = np.load('Xtest.npz')\n",
    "Xtest = Xtest['arr'].reshape((10000, 28, 28, 1))\n",
    "Xtest.shape"
   ]
  },
  {
   "cell_type": "code",
   "execution_count": 6,
   "metadata": {},
   "outputs": [],
   "source": [
    "Xtest = Xtest.astype('float64')\n",
    "Xtest /= 255"
   ]
  },
  {
   "cell_type": "code",
   "execution_count": 7,
   "metadata": {},
   "outputs": [],
   "source": [
    "newy = np.load('newy.npy')\n",
    "y = np.zeros((newy.shape[0], 10))\n",
    "for i in range(newy.shape[0]):\n",
    "    y[i,newy[i]] = 1\n",
    "del newy"
   ]
  },
  {
   "cell_type": "code",
   "execution_count": 8,
   "metadata": {},
   "outputs": [],
   "source": [
    "ytest = np.zeros((ytest_temp.shape[0], 10))\n",
    "for i in range(ytest_temp.shape[0]):\n",
    "    ytest[i,ytest_temp[i]] = 1\n",
    "del ytest_temp"
   ]
  },
  {
   "cell_type": "code",
   "execution_count": 9,
   "metadata": {},
   "outputs": [
    {
     "name": "stdout",
     "output_type": "stream",
     "text": [
      "[0. 0. 0. 0. 1. 0. 0. 0. 0. 0.]\n"
     ]
    },
    {
     "data": {
      "text/plain": [
       "<matplotlib.image.AxesImage at 0x289c8a0e988>"
      ]
     },
     "execution_count": 9,
     "metadata": {},
     "output_type": "execute_result"
    },
    {
     "data": {
      "image/png": "[encoded data removed]",
      "text/plain": [
       "<Figure size 432x288 with 1 Axes>"
      ]
     },
     "metadata": {
      "needs_background": "light"
     },
     "output_type": "display_data"
    }
   ],
   "source": [
    "index = 422235\n",
    "print(y[index])\n",
    "plt.imshow(X[index].reshape(28, 28), cmap=plt.cm.binary)"
   ]
  },
  {
   "cell_type": "code",
   "execution_count": 10,
   "metadata": {},
   "outputs": [
    {
     "name": "stdout",
     "output_type": "stream",
     "text": [
      "[0. 0. 0. 0. 0. 0. 0. 0. 0. 1.]\n"
     ]
    },
    {
     "data": {
      "text/plain": [
       "<matplotlib.image.AxesImage at 0x289c8ad7dc8>"
      ]
     },
     "execution_count": 10,
     "metadata": {},
     "output_type": "execute_result"
    },
    {
     "data": {
      "image/png": "[encoded data removed]",
      "text/plain": [
       "<Figure size 432x288 with 1 Axes>"
      ]
     },
     "metadata": {
      "needs_background": "light"
     },
     "output_type": "display_data"
    }
   ],
   "source": [
    "index = 1192\n",
    "print(ytest[index])\n",
    "plt.imshow(Xtest[index].reshape(28, 28), cmap=plt.cm.binary)"
   ]
  },
  {
   "cell_type": "code",
   "execution_count": 11,
   "metadata": {},
   "outputs": [],
   "source": [
    "import tensorflow as tf"
   ]
  },
  {
   "cell_type": "code",
   "execution_count": 15,
   "metadata": {},
   "outputs": [],
   "source": [
    "from tensorflow.keras.models import Sequential\n",
    "from tensorflow.keras.layers import Dense, Flatten, Conv2D, MaxPool2D, Dropout\n",
    "from tensorflow.keras.layers import BatchNormalization"
   ]
  },
  {
   "cell_type": "code",
   "execution_count": 17,
   "metadata": {},
   "outputs": [],
   "source": [
    "model = Sequential()\n",
    "model.add(Conv2D(filters=32, kernel_size=(5, 5), padding='same', activation='relu', input_shape=(28,28,1)))\n",
    "model.add(Conv2D(filters=32, kernel_size=(5, 5), padding='same', activation='relu'))\n",
    "model.add(MaxPool2D(pool_size=(2,2)))\n",
    "model.add(Dropout(0.25))\n",
    "model.add(BatchNormalization())\n",
    "model.add(Conv2D(filters=64, kernel_size=(3,3), padding='same', activation='relu'))\n",
    "model.add(Conv2D(filters=64, kernel_size=(3,3), padding='same', activation='relu'))\n",
    "model.add(MaxPool2D(pool_size=(2,2), strides=(2,2)))\n",
    "model.add(Dropout(0.25))\n",
    "model.add(BatchNormalization())\n",
    "model.add(Flatten())\n",
    "model.add(Dense(256, activation = 'relu'))\n",
    "model.add(Dropout(0.25))\n",
    "model.add(BatchNormalization())\n",
    "model.add(Dense(10, activation = 'softmax'))"
   ]
  },
  {
   "cell_type": "code",
   "execution_count": 18,
   "metadata": {},
   "outputs": [],
   "source": [
    "model.compile(loss='categorical_crossentropy', optimizer='adam', metrics=['accuracy'])"
   ]
  },
  {
   "cell_type": "code",
   "execution_count": 19,
   "metadata": {},
   "outputs": [
    {
     "name": "stdout",
     "output_type": "stream",
     "text": [
      "Train on 540000 samples, validate on 60000 samples\n",
      "Epoch 1/12\n",
      "540000/540000 [==============================] - 1891s 4ms/sample - loss: 0.0583 - accuracy: 0.9817 - val_loss: 0.0229 - val_accuracy: 0.9929\n",
      "Epoch 2/12\n",
      "540000/540000 [==============================] - 1855s 3ms/sample - loss: 0.0222 - accuracy: 0.9929 - val_loss: 0.0157 - val_accuracy: 0.9948\n",
      "Epoch 3/12\n",
      "540000/540000 [==============================] - 1843s 3ms/sample - loss: 0.0167 - accuracy: 0.9945 - val_loss: 0.0104 - val_accuracy: 0.9966\n",
      "Epoch 4/12\n",
      "540000/540000 [==============================] - 1843s 3ms/sample - loss: 0.0132 - accuracy: 0.9956 - val_loss: 0.0099 - val_accuracy: 0.9967\n",
      "Epoch 5/12\n",
      "540000/540000 [==============================] - 1851s 3ms/sample - loss: 0.0118 - accuracy: 0.9962 - val_loss: 0.0076 - val_accuracy: 0.9973\n",
      "Epoch 6/12\n",
      "540000/540000 [==============================] - 1843s 3ms/sample - loss: 0.0097 - accuracy: 0.9968 - val_loss: 0.0053 - val_accuracy: 0.9983\n",
      "Epoch 7/12\n",
      "540000/540000 [==============================] - 1826s 3ms/sample - loss: 0.0083 - accuracy: 0.9972 - val_loss: 0.0102 - val_accuracy: 0.9966\n",
      "Epoch 8/12\n",
      "540000/540000 [==============================] - 1877s 3ms/sample - loss: 0.0078 - accuracy: 0.9973 - val_loss: 0.0052 - val_accuracy: 0.9982\n",
      "Epoch 9/12\n",
      "540000/540000 [==============================] - 1852s 3ms/sample - loss: 0.0068 - accuracy: 0.9976 - val_loss: 0.0046 - val_accuracy: 0.9985\n",
      "Epoch 10/12\n",
      "540000/540000 [==============================] - 1857s 3ms/sample - loss: 0.0062 - accuracy: 0.9979 - val_loss: 0.0052 - val_accuracy: 0.9981\n",
      "Epoch 11/12\n",
      "540000/540000 [==============================] - 17857s 33ms/sample - loss: 0.0055 - accuracy: 0.9981 - val_loss: 0.0040 - val_accuracy: 0.9986\n",
      "Epoch 12/12\n",
      "540000/540000 [==============================] - 1805s 3ms/sample - loss: 0.0054 - accuracy: 0.9982 - val_loss: 0.0035 - val_accuracy: 0.9989\n"
     ]
    }
   ],
   "source": [
    "history = model.fit(X, y, batch_size=320, validation_split=0.1, epochs=12)"
   ]
  },
  {
   "cell_type": "code",
   "execution_count": 20,
   "metadata": {},
   "outputs": [
    {
     "data": {
      "text/plain": [
       "0.9959"
      ]
     },
     "execution_count": 20,
     "metadata": {},
     "output_type": "execute_result"
    }
   ],
   "source": [
    "accuracy_score(np.argmax(model.predict(Xtest), axis=1), np.argmax(ytest, axis=1))"
   ]
  },
  {
   "cell_type": "code",
   "execution_count": 21,
   "metadata": {},
   "outputs": [],
   "source": [
    "from tensorflow.keras.models import load_model\n",
    "\n",
    "model.save('MNIST0001.h5')"
   ]
  }
 ],
 "metadata": {
  "kernelspec": {
   "display_name": "Python 3",
   "language": "python",
   "name": "python3"
  },
  "language_info": {
   "codemirror_mode": {
    "name": "ipython",
    "version": 3
   },
   "file_extension": ".py",
   "mimetype": "text/x-python",
   "name": "python",
   "nbconvert_exporter": "python",
   "pygments_lexer": "ipython3",
   "version": "3.7.7"
  }
 },
 "nbformat": 4,
 "nbformat_minor": 4
}
